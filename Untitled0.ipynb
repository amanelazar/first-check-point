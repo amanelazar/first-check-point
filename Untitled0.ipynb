{
  "nbformat": 4,
  "nbformat_minor": 0,
  "metadata": {
    "colab": {
      "provenance": []
    },
    "kernelspec": {
      "name": "python3",
      "display_name": "Python 3"
    },
    "language_info": {
      "name": "python"
    }
  },
  "cells": [
    {
      "cell_type": "code",
      "execution_count": 1,
      "metadata": {
        "colab": {
          "base_uri": "https://localhost:8080/"
        },
        "id": "B_wDjVfEprbt",
        "outputId": "790ab142-08c2-4829-b407-8ab8298217b1"
      },
      "outputs": [
        {
          "output_type": "stream",
          "name": "stdout",
          "text": [
            "Welcome to coding\n"
          ]
        }
      ],
      "source": [
        "print('Welcome to coding')"
      ]
    },
    {
      "cell_type": "code",
      "source": [],
      "metadata": {
        "id": "psLzrhBop2zM"
      },
      "execution_count": null,
      "outputs": []
    }
  ]
}